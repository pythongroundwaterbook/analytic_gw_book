{
 "cells": [
  {
   "cell_type": "markdown",
   "metadata": {},
   "source": [
    "<img src=\"../part_of_cover_bakker_post.png\" width=\"800px\">\n",
    "\n",
    "This notebook contains an erratum to <br>\n",
    "**Analytical Groundwater Modeling: Theory and Applications Using Python** <br>\n",
    "by *Mark Bakker and Vincent Post* <br>\n",
    "ISBN 9781138029392\n",
    "\n",
    "The book is published by CRC press and is available [here](https://www.routledge.com/Analytical-Groundwater-Modeling-Theory-and-Applications-using-Python/Bakker-Post/p/book/9781138029392).\n",
    "\n",
    "This Notebook is provided under the [MIT license](https://github.com/pythongroundwaterbook/analytic_gw_book/blob/main/LICENSE). \n",
    "\n",
    "<p>© 2022 Mark Bakker and Vincent Post</p>"
   ]
  },
  {
   "cell_type": "code",
   "execution_count": 1,
   "metadata": {},
   "outputs": [],
   "source": [
    "import numpy as np"
   ]
  },
  {
   "cell_type": "markdown",
   "metadata": {},
   "source": [
    "## Erratum\n",
    "Corrections to known errors in the book are listed below. Please report any possible errors through the [Issues](https://github.com/pythongroundwaterbook/analytic_gw_book/issues) option on github or through an email to the authors. "
   ]
  },
  {
   "cell_type": "markdown",
   "metadata": {},
   "source": [
    "### Chapter 2\n",
    "Equations 2.55 contains one sign error. The sign is correct in the Python code of the equation. The corrected equation (with correction in red) is:"
   ]
  },
  {
   "cell_type": "markdown",
   "metadata": {},
   "source": [
    "\\begin{equation}\n",
    "h_1 = -\\frac{N}{2T}(x^2 - L^2) + \n",
    "\\frac{NL\\lambda}{TT_0}\\frac{[T_0\\cosh(x/\\lambda) {\\color{red}+} T_1\\cosh(L/\\lambda)]}{\\sinh(L/\\lambda)} -\\frac{N\\lambda^2}{T_0}+ h_L \\hskip1cm \\text{(2.55)}\n",
    "\\end{equation}"
   ]
  },
  {
   "cell_type": "markdown",
   "metadata": {},
   "source": [
    "### Chapter 5\n",
    "Equation 5.47 and Equation 5.48 are correct, but the definition of $b_{n-1-1}$ below Equation 5.48 is not correct and should be $b_{n-1-j}= b|_{x,(n-j)\\Delta t}$.\n",
    "Computation of the head dynamics in the remaining part of Section 5.3 doesn't use equation 5.48, so it is recommended to ignore this equation and use the Python implementation at the top of Page 85."
   ]
  },
  {
   "cell_type": "markdown",
   "metadata": {},
   "source": [
    "### Chapter 6"
   ]
  },
  {
   "cell_type": "markdown",
   "metadata": {},
   "source": [
    "Equation 6.66 contains one sign error. The sign is correct in the Python code of the equation. The corrected equation (with correction in red) is:"
   ]
  },
  {
   "cell_type": "markdown",
   "metadata": {},
   "source": [
    "\\begin{equation} \\begin{split}\n",
    "h_0 &= \\frac{Q}{2\\pi(T_0+T_1)}\\left[\\ln(r/R)+\\text{K}_0(r/\\lambda) - \\text{K}_0(R/\\lambda)\\right] + h_R\n",
    "\\\\\n",
    "h_1 &= \\frac{Q}{2\\pi(T_0+T_1)}\\left[ \\ln(r/R){\\color{red}+}\\frac{T_0\\text{K}_0(r/\\lambda)}{T_1} \n",
    "- \\text{K}_0(R/\\lambda)\\right] + h_R\n",
    "\\end{split} \\hskip1cm \\text{(6.66)}\\end{equation}"
   ]
  },
  {
   "cell_type": "markdown",
   "metadata": {},
   "source": [
    "The code that produces a basic version of Figure 6.15 contains two sign errors. The corrected code is implemented [here](https://github.com/pythongroundwaterbook/analytic_gw_book/blob/main/chapter6/chapter6_bakker_post.ipynb)."
   ]
  },
  {
   "cell_type": "markdown",
   "metadata": {},
   "source": [
    "### Chapter 8"
   ]
  },
  {
   "cell_type": "markdown",
   "metadata": {},
   "source": [
    "In the code block at the bottom of page 146, the first definition of `xls` is not used and can be removed from the code. The code without this extra line is available [here](https://github.com/pythongroundwaterbook/analytic_gw_book/blob/main/chapter8/chapter8_bakker_post.ipynb)."
   ]
  },
  {
   "cell_type": "markdown",
   "metadata": {},
   "source": [
    "### Chapter 9"
   ]
  },
  {
   "cell_type": "markdown",
   "metadata": {},
   "source": [
    "The definition of $r_2^2$ right below Eq. 9.19 has a sign error and should be $r_2^2=(x{\\color{red}-}d)^2+y^2$. "
   ]
  },
  {
   "cell_type": "markdown",
   "metadata": {},
   "source": [
    "Equation 9.48 contains one sign error. The sign is correct in the Python code of the equation. The corrected equation (with correction in red) is:"
   ]
  },
  {
   "cell_type": "markdown",
   "metadata": {},
   "source": [
    "\\begin{equation}\n",
    "\\overline{Q}_r=-T\\frac{\\text{d}\\overline{h}}{\\text{d}r} =   {\\color{red}+}BT\\sqrt{w}\\text{K}_1(r\\sqrt{w})  \\hskip1cm \\text{(9.48)}\n",
    "\\end{equation}"
   ]
  },
  {
   "cell_type": "markdown",
   "metadata": {},
   "source": [
    "### Chapter 10"
   ]
  },
  {
   "cell_type": "markdown",
   "metadata": {},
   "source": [
    "The code that produces a basic version of Figure 10.14 plots $q_z$ at the top of the aquifer in m/d, while Figure 10.14 plots $q_z$ at the top in mm/d. To create a basic verion of Figure 10.14, `qz` should be multiplied by 1000 when plotted. A notebook with the corrected code is available [here](https://github.com/pythongroundwaterbook/analytic_gw_book/blob/main/chapter10/chapter10_bakker_post.ipynb)."
   ]
  },
  {
   "cell_type": "markdown",
   "metadata": {},
   "source": [
    "### Deprecated usage"
   ]
  },
  {
   "cell_type": "markdown",
   "metadata": {},
   "source": [
    "Python and the packages of the scipy stack are continuously improved. Sometimes, usage new usage is introduced and old usage is deprecated. \n",
    "Minor updates are made to the code presented in the book when functionality is deprecated. An (incomplete) list of fixes is presented here:\n",
    "1. `np.infty` is deprecated. `np.inf` should be used (fixed in Chapter 5).\n",
    "2. Conversion of an array with ndim > 0 to a scalar is deprecated, as shown in code below (fixed in Chapters 5 and 8)."
   ]
  },
  {
   "cell_type": "code",
   "execution_count": 2,
   "metadata": {},
   "outputs": [],
   "source": [
    "# Deprecated usage of item 2\n",
    "a = np.arange(3)\n",
    "b = np.array([2])\n",
    "# a[1] = b # not allowed anymore\n",
    "a[1] = b[0] # new correct syntax"
   ]
  }
 ],
 "metadata": {
  "celltoolbar": "Tags",
  "kernelspec": {
   "display_name": "Python 3 (ipykernel)",
   "language": "python",
   "name": "python3"
  },
  "language_info": {
   "codemirror_mode": {
    "name": "ipython",
    "version": 3
   },
   "file_extension": ".py",
   "mimetype": "text/x-python",
   "name": "python",
   "nbconvert_exporter": "python",
   "pygments_lexer": "ipython3",
   "version": "3.13.5"
  },
  "latex_envs": {
   "LaTeX_envs_menu_present": true,
   "autoclose": false,
   "autocomplete": true,
   "bibliofile": "biblio.bib",
   "cite_by": "apalike",
   "current_citInitial": 1,
   "eqLabelWithNumbers": true,
   "eqNumInitial": 1,
   "hotkeys": {
    "equation": "Ctrl-E",
    "itemize": "Ctrl-I"
   },
   "labels_anchors": false,
   "latex_user_defs": false,
   "report_style_numbering": false,
   "user_envs_cfg": false
  },
  "varInspector": {
   "cols": {
    "lenName": 16,
    "lenType": 16,
    "lenVar": 40
   },
   "kernels_config": {
    "python": {
     "delete_cmd_postfix": "",
     "delete_cmd_prefix": "del ",
     "library": "var_list.py",
     "varRefreshCmd": "print(var_dic_list())"
    },
    "r": {
     "delete_cmd_postfix": ") ",
     "delete_cmd_prefix": "rm(",
     "library": "var_list.r",
     "varRefreshCmd": "cat(var_dic_list()) "
    }
   },
   "types_to_exclude": [
    "module",
    "function",
    "builtin_function_or_method",
    "instance",
    "_Feature"
   ],
   "window_display": false
  }
 },
 "nbformat": 4,
 "nbformat_minor": 4
}
